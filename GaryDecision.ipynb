{
 "cells": [
  {
   "cell_type": "code",
   "execution_count": 178,
   "metadata": {},
   "outputs": [],
   "source": [
    "import pandas as pd\n",
    "import numpy as np \n",
    "import seaborn as sns\n",
    "import matplotlib.pyplot as plt\n",
    "%matplotlib inline\n",
    "#import libraries"
   ]
  },
  {
   "cell_type": "markdown",
   "metadata": {},
   "source": [
    " \n",
    "Instructions\n",
    "\n",
    "Gary, the VP of Marketing, is looking to spend his marketing budget wisely. He’s asking you to help figure out whom to market to. Gary sent you a list of 1,000 leads that he previously marketed to. (See attached file: leads.csv.)\n",
    "\n",
    "Your colleague, Ariana, sent you a list of current clients. (See attached file: Current Clients.xlsx.)\n",
    "\n",
    "Gary has his weekly check-in with our CEO Ryan in one hour. He’s asking for a recommendation of where to spend out marketing budget based on the data available.\n",
    "\n",
    "Please analyze the attached data sets and send your analysis to Gary along with a recommendation on which type of clients we should market to.\n",
    "\n",
    "Please limit the time you spend answering Gary to one hour, or he’ll have to go into the meeting with Ryan without your input. Gary’s tied up in another meeting this hour, and so will not be able to answer any clarifying questions. If there are any ambiguities, please use your best judgement.\n"
   ]
  },
  {
   "cell_type": "code",
   "execution_count": 179,
   "metadata": {},
   "outputs": [],
   "source": [
    "df_lead = pd.read_csv('leads.csv')\n",
    "df_client = pd.read_csv('current_clients.csv')\n",
    "#load lead and client files"
   ]
  },
  {
   "cell_type": "code",
   "execution_count": 180,
   "metadata": {},
   "outputs": [
    {
     "data": {
      "text/html": [
       "<div>\n",
       "<style scoped>\n",
       "    .dataframe tbody tr th:only-of-type {\n",
       "        vertical-align: middle;\n",
       "    }\n",
       "\n",
       "    .dataframe tbody tr th {\n",
       "        vertical-align: top;\n",
       "    }\n",
       "\n",
       "    .dataframe thead th {\n",
       "        text-align: right;\n",
       "    }\n",
       "</style>\n",
       "<table border=\"1\" class=\"dataframe\">\n",
       "  <thead>\n",
       "    <tr style=\"text-align: right;\">\n",
       "      <th></th>\n",
       "      <th>first_name</th>\n",
       "      <th>last_name</th>\n",
       "      <th>age</th>\n",
       "      <th>gender</th>\n",
       "      <th>debt</th>\n",
       "      <th>city</th>\n",
       "      <th>state</th>\n",
       "      <th>zip</th>\n",
       "    </tr>\n",
       "  </thead>\n",
       "  <tbody>\n",
       "    <tr>\n",
       "      <th>0</th>\n",
       "      <td>Terrye</td>\n",
       "      <td>Gunnell</td>\n",
       "      <td>60.0</td>\n",
       "      <td>Female</td>\n",
       "      <td>$101,876</td>\n",
       "      <td>Springfield</td>\n",
       "      <td>MA</td>\n",
       "      <td>1152</td>\n",
       "    </tr>\n",
       "    <tr>\n",
       "      <th>1</th>\n",
       "      <td>Rodolph</td>\n",
       "      <td>Gerb</td>\n",
       "      <td>47.0</td>\n",
       "      <td>Male</td>\n",
       "      <td>$92,052</td>\n",
       "      <td>Worcester</td>\n",
       "      <td>MA</td>\n",
       "      <td>1605</td>\n",
       "    </tr>\n",
       "    <tr>\n",
       "      <th>2</th>\n",
       "      <td>Glynis</td>\n",
       "      <td>D'orsay</td>\n",
       "      <td>56.0</td>\n",
       "      <td>Female</td>\n",
       "      <td>$72,343</td>\n",
       "      <td>Worcester</td>\n",
       "      <td>MA</td>\n",
       "      <td>1654</td>\n",
       "    </tr>\n",
       "    <tr>\n",
       "      <th>3</th>\n",
       "      <td>Alvie</td>\n",
       "      <td>Vennart</td>\n",
       "      <td>73.0</td>\n",
       "      <td>Male</td>\n",
       "      <td>$76,304</td>\n",
       "      <td>Woburn</td>\n",
       "      <td>MA</td>\n",
       "      <td>1813</td>\n",
       "    </tr>\n",
       "    <tr>\n",
       "      <th>4</th>\n",
       "      <td>Brantley</td>\n",
       "      <td>Chalker</td>\n",
       "      <td>87.0</td>\n",
       "      <td>Male</td>\n",
       "      <td>$22,570</td>\n",
       "      <td>Boston</td>\n",
       "      <td>MA</td>\n",
       "      <td>2114</td>\n",
       "    </tr>\n",
       "  </tbody>\n",
       "</table>\n",
       "</div>"
      ],
      "text/plain": [
       "  first_name last_name   age  gender      debt         city state   zip\n",
       "0     Terrye   Gunnell  60.0  Female  $101,876  Springfield    MA  1152\n",
       "1    Rodolph      Gerb  47.0    Male   $92,052    Worcester    MA  1605\n",
       "2     Glynis   D'orsay  56.0  Female   $72,343    Worcester    MA  1654\n",
       "3      Alvie   Vennart  73.0    Male   $76,304       Woburn    MA  1813\n",
       "4   Brantley   Chalker  87.0    Male   $22,570       Boston    MA  2114"
      ]
     },
     "execution_count": 180,
     "metadata": {},
     "output_type": "execute_result"
    }
   ],
   "source": [
    "df_lead.head()"
   ]
  },
  {
   "cell_type": "code",
   "execution_count": 181,
   "metadata": {},
   "outputs": [
    {
     "data": {
      "text/html": [
       "<div>\n",
       "<style scoped>\n",
       "    .dataframe tbody tr th:only-of-type {\n",
       "        vertical-align: middle;\n",
       "    }\n",
       "\n",
       "    .dataframe tbody tr th {\n",
       "        vertical-align: top;\n",
       "    }\n",
       "\n",
       "    .dataframe thead th {\n",
       "        text-align: right;\n",
       "    }\n",
       "</style>\n",
       "<table border=\"1\" class=\"dataframe\">\n",
       "  <thead>\n",
       "    <tr style=\"text-align: right;\">\n",
       "      <th></th>\n",
       "      <th>Client_ID</th>\n",
       "      <th>First_Name</th>\n",
       "      <th>Last_Name</th>\n",
       "      <th>City</th>\n",
       "      <th>State</th>\n",
       "      <th>ZIP</th>\n",
       "    </tr>\n",
       "  </thead>\n",
       "  <tbody>\n",
       "    <tr>\n",
       "      <th>0</th>\n",
       "      <td>1</td>\n",
       "      <td>Vincenty</td>\n",
       "      <td>Vanyard</td>\n",
       "      <td>Hollywood</td>\n",
       "      <td>FL</td>\n",
       "      <td>33028</td>\n",
       "    </tr>\n",
       "    <tr>\n",
       "      <th>1</th>\n",
       "      <td>2</td>\n",
       "      <td>Pattie</td>\n",
       "      <td>Okeshott</td>\n",
       "      <td>Scottsdale</td>\n",
       "      <td>AZ</td>\n",
       "      <td>85271</td>\n",
       "    </tr>\n",
       "    <tr>\n",
       "      <th>2</th>\n",
       "      <td>3</td>\n",
       "      <td>Olenka</td>\n",
       "      <td>Blackler</td>\n",
       "      <td>Phoenix</td>\n",
       "      <td>AZ</td>\n",
       "      <td>85020</td>\n",
       "    </tr>\n",
       "    <tr>\n",
       "      <th>3</th>\n",
       "      <td>4</td>\n",
       "      <td>Georgia</td>\n",
       "      <td>Elby</td>\n",
       "      <td>Virginia Beach</td>\n",
       "      <td>VA</td>\n",
       "      <td>23454</td>\n",
       "    </tr>\n",
       "    <tr>\n",
       "      <th>4</th>\n",
       "      <td>5</td>\n",
       "      <td>Sheelah</td>\n",
       "      <td>Petris</td>\n",
       "      <td>Cleveland</td>\n",
       "      <td>OH</td>\n",
       "      <td>44111</td>\n",
       "    </tr>\n",
       "  </tbody>\n",
       "</table>\n",
       "</div>"
      ],
      "text/plain": [
       "   Client_ID First_Name Last_Name            City State    ZIP\n",
       "0          1   Vincenty   Vanyard       Hollywood    FL  33028\n",
       "1          2     Pattie  Okeshott      Scottsdale    AZ  85271\n",
       "2          3     Olenka  Blackler         Phoenix    AZ  85020\n",
       "3          4    Georgia      Elby  Virginia Beach    VA  23454\n",
       "4          5    Sheelah    Petris       Cleveland    OH  44111"
      ]
     },
     "execution_count": 181,
     "metadata": {},
     "output_type": "execute_result"
    }
   ],
   "source": [
    "df_client.head()"
   ]
  },
  {
   "cell_type": "code",
   "execution_count": 182,
   "metadata": {},
   "outputs": [
    {
     "data": {
      "text/html": [
       "<div>\n",
       "<style scoped>\n",
       "    .dataframe tbody tr th:only-of-type {\n",
       "        vertical-align: middle;\n",
       "    }\n",
       "\n",
       "    .dataframe tbody tr th {\n",
       "        vertical-align: top;\n",
       "    }\n",
       "\n",
       "    .dataframe thead th {\n",
       "        text-align: right;\n",
       "    }\n",
       "</style>\n",
       "<table border=\"1\" class=\"dataframe\">\n",
       "  <thead>\n",
       "    <tr style=\"text-align: right;\">\n",
       "      <th></th>\n",
       "      <th>first_name</th>\n",
       "      <th>last_name</th>\n",
       "      <th>age</th>\n",
       "      <th>gender</th>\n",
       "      <th>debt</th>\n",
       "      <th>city</th>\n",
       "      <th>state</th>\n",
       "      <th>zip</th>\n",
       "    </tr>\n",
       "  </thead>\n",
       "  <tbody>\n",
       "    <tr>\n",
       "      <th>995</th>\n",
       "      <td>Sigrid</td>\n",
       "      <td>Clevely</td>\n",
       "      <td>39.0</td>\n",
       "      <td>Female</td>\n",
       "      <td>NaN</td>\n",
       "      <td>Spokane</td>\n",
       "      <td>WA</td>\n",
       "      <td>99215</td>\n",
       "    </tr>\n",
       "    <tr>\n",
       "      <th>996</th>\n",
       "      <td>Hank</td>\n",
       "      <td>Effnert</td>\n",
       "      <td>62.0</td>\n",
       "      <td>Male</td>\n",
       "      <td>$89,054</td>\n",
       "      <td>Spokane</td>\n",
       "      <td>WA</td>\n",
       "      <td>99215</td>\n",
       "    </tr>\n",
       "    <tr>\n",
       "      <th>997</th>\n",
       "      <td>Harley</td>\n",
       "      <td>Lodder</td>\n",
       "      <td>37.0</td>\n",
       "      <td>Male</td>\n",
       "      <td>$100,941</td>\n",
       "      <td>Spokane</td>\n",
       "      <td>WA</td>\n",
       "      <td>99252</td>\n",
       "    </tr>\n",
       "    <tr>\n",
       "      <th>998</th>\n",
       "      <td>Mose</td>\n",
       "      <td>Warwick</td>\n",
       "      <td>88.0</td>\n",
       "      <td>Male</td>\n",
       "      <td>$33,860</td>\n",
       "      <td>Anchorage</td>\n",
       "      <td>AK</td>\n",
       "      <td>99507</td>\n",
       "    </tr>\n",
       "    <tr>\n",
       "      <th>999</th>\n",
       "      <td>Willi</td>\n",
       "      <td>Sivess</td>\n",
       "      <td>68.0</td>\n",
       "      <td>Male</td>\n",
       "      <td>$62,314</td>\n",
       "      <td>Juneau</td>\n",
       "      <td>AK</td>\n",
       "      <td>99812</td>\n",
       "    </tr>\n",
       "  </tbody>\n",
       "</table>\n",
       "</div>"
      ],
      "text/plain": [
       "    first_name last_name   age  gender      debt       city state    zip\n",
       "995     Sigrid   Clevely  39.0  Female       NaN    Spokane    WA  99215\n",
       "996       Hank   Effnert  62.0    Male   $89,054    Spokane    WA  99215\n",
       "997     Harley    Lodder  37.0    Male  $100,941    Spokane    WA  99252\n",
       "998       Mose   Warwick  88.0    Male   $33,860  Anchorage    AK  99507\n",
       "999      Willi    Sivess  68.0    Male   $62,314     Juneau    AK  99812"
      ]
     },
     "execution_count": 182,
     "metadata": {},
     "output_type": "execute_result"
    }
   ],
   "source": [
    "df_lead.tail()\n",
    "#need to count all NaN rows"
   ]
  },
  {
   "cell_type": "code",
   "execution_count": 183,
   "metadata": {},
   "outputs": [
    {
     "data": {
      "text/plain": [
       "64"
      ]
     },
     "execution_count": 183,
     "metadata": {},
     "output_type": "execute_result"
    }
   ],
   "source": [
    "df_lead.isna().sum().sum()\n",
    "#64 rows with NaN values\n",
    "#need to delete all rows"
   ]
  },
  {
   "cell_type": "code",
   "execution_count": 184,
   "metadata": {},
   "outputs": [
    {
     "data": {
      "text/html": [
       "<div>\n",
       "<style scoped>\n",
       "    .dataframe tbody tr th:only-of-type {\n",
       "        vertical-align: middle;\n",
       "    }\n",
       "\n",
       "    .dataframe tbody tr th {\n",
       "        vertical-align: top;\n",
       "    }\n",
       "\n",
       "    .dataframe thead th {\n",
       "        text-align: right;\n",
       "    }\n",
       "</style>\n",
       "<table border=\"1\" class=\"dataframe\">\n",
       "  <thead>\n",
       "    <tr style=\"text-align: right;\">\n",
       "      <th></th>\n",
       "      <th>first_name</th>\n",
       "      <th>last_name</th>\n",
       "      <th>age</th>\n",
       "      <th>gender</th>\n",
       "      <th>debt</th>\n",
       "      <th>city</th>\n",
       "      <th>state</th>\n",
       "      <th>zip</th>\n",
       "    </tr>\n",
       "  </thead>\n",
       "  <tbody>\n",
       "    <tr>\n",
       "      <th>0</th>\n",
       "      <td>Terrye</td>\n",
       "      <td>Gunnell</td>\n",
       "      <td>60.0</td>\n",
       "      <td>Female</td>\n",
       "      <td>$101,876</td>\n",
       "      <td>Springfield</td>\n",
       "      <td>MA</td>\n",
       "      <td>1152</td>\n",
       "    </tr>\n",
       "    <tr>\n",
       "      <th>1</th>\n",
       "      <td>Rodolph</td>\n",
       "      <td>Gerb</td>\n",
       "      <td>47.0</td>\n",
       "      <td>Male</td>\n",
       "      <td>$92,052</td>\n",
       "      <td>Worcester</td>\n",
       "      <td>MA</td>\n",
       "      <td>1605</td>\n",
       "    </tr>\n",
       "    <tr>\n",
       "      <th>2</th>\n",
       "      <td>Glynis</td>\n",
       "      <td>D'orsay</td>\n",
       "      <td>56.0</td>\n",
       "      <td>Female</td>\n",
       "      <td>$72,343</td>\n",
       "      <td>Worcester</td>\n",
       "      <td>MA</td>\n",
       "      <td>1654</td>\n",
       "    </tr>\n",
       "    <tr>\n",
       "      <th>3</th>\n",
       "      <td>Alvie</td>\n",
       "      <td>Vennart</td>\n",
       "      <td>73.0</td>\n",
       "      <td>Male</td>\n",
       "      <td>$76,304</td>\n",
       "      <td>Woburn</td>\n",
       "      <td>MA</td>\n",
       "      <td>1813</td>\n",
       "    </tr>\n",
       "    <tr>\n",
       "      <th>4</th>\n",
       "      <td>Brantley</td>\n",
       "      <td>Chalker</td>\n",
       "      <td>87.0</td>\n",
       "      <td>Male</td>\n",
       "      <td>$22,570</td>\n",
       "      <td>Boston</td>\n",
       "      <td>MA</td>\n",
       "      <td>2114</td>\n",
       "    </tr>\n",
       "    <tr>\n",
       "      <th>...</th>\n",
       "      <td>...</td>\n",
       "      <td>...</td>\n",
       "      <td>...</td>\n",
       "      <td>...</td>\n",
       "      <td>...</td>\n",
       "      <td>...</td>\n",
       "      <td>...</td>\n",
       "      <td>...</td>\n",
       "    </tr>\n",
       "    <tr>\n",
       "      <th>994</th>\n",
       "      <td>Shane</td>\n",
       "      <td>Ciccottio</td>\n",
       "      <td>86.0</td>\n",
       "      <td>Male</td>\n",
       "      <td>$17,211</td>\n",
       "      <td>Vancouver</td>\n",
       "      <td>WA</td>\n",
       "      <td>98687</td>\n",
       "    </tr>\n",
       "    <tr>\n",
       "      <th>996</th>\n",
       "      <td>Hank</td>\n",
       "      <td>Effnert</td>\n",
       "      <td>62.0</td>\n",
       "      <td>Male</td>\n",
       "      <td>$89,054</td>\n",
       "      <td>Spokane</td>\n",
       "      <td>WA</td>\n",
       "      <td>99215</td>\n",
       "    </tr>\n",
       "    <tr>\n",
       "      <th>997</th>\n",
       "      <td>Harley</td>\n",
       "      <td>Lodder</td>\n",
       "      <td>37.0</td>\n",
       "      <td>Male</td>\n",
       "      <td>$100,941</td>\n",
       "      <td>Spokane</td>\n",
       "      <td>WA</td>\n",
       "      <td>99252</td>\n",
       "    </tr>\n",
       "    <tr>\n",
       "      <th>998</th>\n",
       "      <td>Mose</td>\n",
       "      <td>Warwick</td>\n",
       "      <td>88.0</td>\n",
       "      <td>Male</td>\n",
       "      <td>$33,860</td>\n",
       "      <td>Anchorage</td>\n",
       "      <td>AK</td>\n",
       "      <td>99507</td>\n",
       "    </tr>\n",
       "    <tr>\n",
       "      <th>999</th>\n",
       "      <td>Willi</td>\n",
       "      <td>Sivess</td>\n",
       "      <td>68.0</td>\n",
       "      <td>Male</td>\n",
       "      <td>$62,314</td>\n",
       "      <td>Juneau</td>\n",
       "      <td>AK</td>\n",
       "      <td>99812</td>\n",
       "    </tr>\n",
       "  </tbody>\n",
       "</table>\n",
       "<p>961 rows × 8 columns</p>\n",
       "</div>"
      ],
      "text/plain": [
       "    first_name  last_name   age  gender      debt         city state    zip\n",
       "0       Terrye    Gunnell  60.0  Female  $101,876  Springfield    MA   1152\n",
       "1      Rodolph       Gerb  47.0    Male   $92,052    Worcester    MA   1605\n",
       "2       Glynis    D'orsay  56.0  Female   $72,343    Worcester    MA   1654\n",
       "3        Alvie    Vennart  73.0    Male   $76,304       Woburn    MA   1813\n",
       "4     Brantley    Chalker  87.0    Male   $22,570       Boston    MA   2114\n",
       "..         ...        ...   ...     ...       ...          ...   ...    ...\n",
       "994      Shane  Ciccottio  86.0    Male   $17,211    Vancouver    WA  98687\n",
       "996       Hank    Effnert  62.0    Male   $89,054      Spokane    WA  99215\n",
       "997     Harley     Lodder  37.0    Male  $100,941      Spokane    WA  99252\n",
       "998       Mose    Warwick  88.0    Male   $33,860    Anchorage    AK  99507\n",
       "999      Willi     Sivess  68.0    Male   $62,314       Juneau    AK  99812\n",
       "\n",
       "[961 rows x 8 columns]"
      ]
     },
     "execution_count": 184,
     "metadata": {},
     "output_type": "execute_result"
    }
   ],
   "source": [
    "df_lead.dropna()"
   ]
  },
  {
   "cell_type": "code",
   "execution_count": 185,
   "metadata": {},
   "outputs": [
    {
     "data": {
      "text/html": [
       "<div>\n",
       "<style scoped>\n",
       "    .dataframe tbody tr th:only-of-type {\n",
       "        vertical-align: middle;\n",
       "    }\n",
       "\n",
       "    .dataframe tbody tr th {\n",
       "        vertical-align: top;\n",
       "    }\n",
       "\n",
       "    .dataframe thead th {\n",
       "        text-align: right;\n",
       "    }\n",
       "</style>\n",
       "<table border=\"1\" class=\"dataframe\">\n",
       "  <thead>\n",
       "    <tr style=\"text-align: right;\">\n",
       "      <th></th>\n",
       "      <th>Client_ID</th>\n",
       "      <th>First_Name</th>\n",
       "      <th>Last_Name</th>\n",
       "      <th>City</th>\n",
       "      <th>State</th>\n",
       "      <th>ZIP</th>\n",
       "    </tr>\n",
       "  </thead>\n",
       "  <tbody>\n",
       "    <tr>\n",
       "      <th>175</th>\n",
       "      <td>176</td>\n",
       "      <td>Crystal</td>\n",
       "      <td>Ratley</td>\n",
       "      <td>Henderson</td>\n",
       "      <td>NV</td>\n",
       "      <td>89074</td>\n",
       "    </tr>\n",
       "    <tr>\n",
       "      <th>176</th>\n",
       "      <td>177</td>\n",
       "      <td>Talbot</td>\n",
       "      <td>McTerry</td>\n",
       "      <td>San Bernardino</td>\n",
       "      <td>CA</td>\n",
       "      <td>92415</td>\n",
       "    </tr>\n",
       "    <tr>\n",
       "      <th>177</th>\n",
       "      <td>178</td>\n",
       "      <td>Granger</td>\n",
       "      <td>Goudard</td>\n",
       "      <td>London</td>\n",
       "      <td>KY</td>\n",
       "      <td>40745</td>\n",
       "    </tr>\n",
       "    <tr>\n",
       "      <th>178</th>\n",
       "      <td>179</td>\n",
       "      <td>Sarene</td>\n",
       "      <td>Lowy</td>\n",
       "      <td>Boynton Beach</td>\n",
       "      <td>FL</td>\n",
       "      <td>33436</td>\n",
       "    </tr>\n",
       "    <tr>\n",
       "      <th>179</th>\n",
       "      <td>180</td>\n",
       "      <td>Vanya</td>\n",
       "      <td>Lamond</td>\n",
       "      <td>Houston</td>\n",
       "      <td>TX</td>\n",
       "      <td>77245</td>\n",
       "    </tr>\n",
       "  </tbody>\n",
       "</table>\n",
       "</div>"
      ],
      "text/plain": [
       "     Client_ID First_Name Last_Name            City State    ZIP\n",
       "175        176    Crystal    Ratley       Henderson    NV  89074\n",
       "176        177     Talbot   McTerry  San Bernardino    CA  92415\n",
       "177        178    Granger   Goudard          London    KY  40745\n",
       "178        179     Sarene      Lowy   Boynton Beach    FL  33436\n",
       "179        180      Vanya    Lamond         Houston    TX  77245"
      ]
     },
     "execution_count": 185,
     "metadata": {},
     "output_type": "execute_result"
    }
   ],
   "source": [
    "df_client.tail()"
   ]
  },
  {
   "cell_type": "code",
   "execution_count": 186,
   "metadata": {},
   "outputs": [
    {
     "data": {
      "text/plain": [
       "0"
      ]
     },
     "execution_count": 186,
     "metadata": {},
     "output_type": "execute_result"
    }
   ],
   "source": [
    "df_client.isna().sum().sum()\n",
    "#no NaN values in clients csv"
   ]
  },
  {
   "cell_type": "code",
   "execution_count": 187,
   "metadata": {},
   "outputs": [
    {
     "data": {
      "text/plain": [
       "first_name     object\n",
       "last_name      object\n",
       "age           float64\n",
       "gender         object\n",
       "debt           object\n",
       "city           object\n",
       "state          object\n",
       "zip             int64\n",
       "dtype: object"
      ]
     },
     "execution_count": 187,
     "metadata": {},
     "output_type": "execute_result"
    }
   ],
   "source": [
    "df_lead.dtypes\n",
    "#need to change debt to a float"
   ]
  },
  {
   "cell_type": "code",
   "execution_count": 188,
   "metadata": {},
   "outputs": [],
   "source": [
    "df_lead['debt'] = df_lead['debt'].str.replace('$','')\n",
    "df_lead['debt'] = df_lead['debt'].str.replace(',', '')\n",
    "#need to get rid of special characters in the column 'debt'"
   ]
  },
  {
   "cell_type": "code",
   "execution_count": 189,
   "metadata": {},
   "outputs": [],
   "source": [
    "df_lead['debt'] = df_lead['debt'].astype(str).astype(float)\n",
    "#debt column is now a float"
   ]
  },
  {
   "cell_type": "code",
   "execution_count": 190,
   "metadata": {},
   "outputs": [
    {
     "data": {
      "text/html": [
       "<div>\n",
       "<style scoped>\n",
       "    .dataframe tbody tr th:only-of-type {\n",
       "        vertical-align: middle;\n",
       "    }\n",
       "\n",
       "    .dataframe tbody tr th {\n",
       "        vertical-align: top;\n",
       "    }\n",
       "\n",
       "    .dataframe thead th {\n",
       "        text-align: right;\n",
       "    }\n",
       "</style>\n",
       "<table border=\"1\" class=\"dataframe\">\n",
       "  <thead>\n",
       "    <tr style=\"text-align: right;\">\n",
       "      <th></th>\n",
       "      <th>first_name</th>\n",
       "      <th>last_name</th>\n",
       "      <th>age</th>\n",
       "      <th>gender</th>\n",
       "      <th>debt</th>\n",
       "      <th>city</th>\n",
       "      <th>state</th>\n",
       "      <th>zip</th>\n",
       "    </tr>\n",
       "  </thead>\n",
       "  <tbody>\n",
       "    <tr>\n",
       "      <th>0</th>\n",
       "      <td>Terrye</td>\n",
       "      <td>Gunnell</td>\n",
       "      <td>60.0</td>\n",
       "      <td>Female</td>\n",
       "      <td>101876.0</td>\n",
       "      <td>Springfield</td>\n",
       "      <td>MA</td>\n",
       "      <td>1152</td>\n",
       "    </tr>\n",
       "    <tr>\n",
       "      <th>1</th>\n",
       "      <td>Rodolph</td>\n",
       "      <td>Gerb</td>\n",
       "      <td>47.0</td>\n",
       "      <td>Male</td>\n",
       "      <td>92052.0</td>\n",
       "      <td>Worcester</td>\n",
       "      <td>MA</td>\n",
       "      <td>1605</td>\n",
       "    </tr>\n",
       "    <tr>\n",
       "      <th>2</th>\n",
       "      <td>Glynis</td>\n",
       "      <td>D'orsay</td>\n",
       "      <td>56.0</td>\n",
       "      <td>Female</td>\n",
       "      <td>72343.0</td>\n",
       "      <td>Worcester</td>\n",
       "      <td>MA</td>\n",
       "      <td>1654</td>\n",
       "    </tr>\n",
       "    <tr>\n",
       "      <th>3</th>\n",
       "      <td>Alvie</td>\n",
       "      <td>Vennart</td>\n",
       "      <td>73.0</td>\n",
       "      <td>Male</td>\n",
       "      <td>76304.0</td>\n",
       "      <td>Woburn</td>\n",
       "      <td>MA</td>\n",
       "      <td>1813</td>\n",
       "    </tr>\n",
       "    <tr>\n",
       "      <th>4</th>\n",
       "      <td>Brantley</td>\n",
       "      <td>Chalker</td>\n",
       "      <td>87.0</td>\n",
       "      <td>Male</td>\n",
       "      <td>22570.0</td>\n",
       "      <td>Boston</td>\n",
       "      <td>MA</td>\n",
       "      <td>2114</td>\n",
       "    </tr>\n",
       "  </tbody>\n",
       "</table>\n",
       "</div>"
      ],
      "text/plain": [
       "  first_name last_name   age  gender      debt         city state   zip\n",
       "0     Terrye   Gunnell  60.0  Female  101876.0  Springfield    MA  1152\n",
       "1    Rodolph      Gerb  47.0    Male   92052.0    Worcester    MA  1605\n",
       "2     Glynis   D'orsay  56.0  Female   72343.0    Worcester    MA  1654\n",
       "3      Alvie   Vennart  73.0    Male   76304.0       Woburn    MA  1813\n",
       "4   Brantley   Chalker  87.0    Male   22570.0       Boston    MA  2114"
      ]
     },
     "execution_count": 190,
     "metadata": {},
     "output_type": "execute_result"
    }
   ],
   "source": [
    "df_lead.head()\n",
    "#everything looks good now"
   ]
  },
  {
   "cell_type": "code",
   "execution_count": 191,
   "metadata": {},
   "outputs": [
    {
     "data": {
      "text/plain": [
       "Client_ID      int64\n",
       "First_Name    object\n",
       "Last_Name     object\n",
       "City          object\n",
       "State         object\n",
       "ZIP            int64\n",
       "dtype: object"
      ]
     },
     "execution_count": 191,
     "metadata": {},
     "output_type": "execute_result"
    }
   ],
   "source": [
    "df_client.dtypes"
   ]
  },
  {
   "cell_type": "markdown",
   "metadata": {},
   "source": [
    "Let's explor the data now"
   ]
  },
  {
   "cell_type": "code",
   "execution_count": 192,
   "metadata": {},
   "outputs": [
    {
     "data": {
      "image/png": "[encoded data removed]",
      "text/plain": [
       "<Figure size 432x288 with 1 Axes>"
      ]
     },
     "metadata": {
      "needs_background": "light"
     },
     "output_type": "display_data"
    }
   ],
   "source": [
    "df_lead.age.hist();\n",
    "#age range is 20-100"
   ]
  },
  {
   "cell_type": "code",
   "execution_count": 193,
   "metadata": {},
   "outputs": [
    {
     "data": {
      "image/png": "[encoded data removed]",
      "text/plain": [
       "<Figure size 432x288 with 1 Axes>"
      ]
     },
     "metadata": {
      "needs_background": "light"
     },
     "output_type": "display_data"
    }
   ],
   "source": [
    "df_lead.debt.hist();\n",
    "#debt range is about 10k-110k"
   ]
  },
  {
   "cell_type": "code",
   "execution_count": 194,
   "metadata": {},
   "outputs": [
    {
     "data": {
      "text/plain": [
       "TX    19\n",
       "FL    17\n",
       "CA    15\n",
       "OH    13\n",
       "TN     8\n",
       "PA     7\n",
       "UT     7\n",
       "NY     6\n",
       "NC     6\n",
       "WI     6\n",
       "MN     6\n",
       "IN     5\n",
       "KY     5\n",
       "MO     5\n",
       "WA     4\n",
       "LA     4\n",
       "SC     4\n",
       "AZ     4\n",
       "MS     3\n",
       "WV     3\n",
       "MI     3\n",
       "IA     3\n",
       "KS     3\n",
       "OR     3\n",
       "VA     2\n",
       "GA     2\n",
       "NV     2\n",
       "IL     2\n",
       "CT     2\n",
       "DC     2\n",
       "CO     2\n",
       "OK     1\n",
       "AR     1\n",
       "NM     1\n",
       "AL     1\n",
       "ID     1\n",
       "NE     1\n",
       "WY     1\n",
       "Name: State, dtype: int64"
      ]
     },
     "execution_count": 194,
     "metadata": {},
     "output_type": "execute_result"
    }
   ],
   "source": [
    "df_client['State'].value_counts()"
   ]
  },
  {
   "cell_type": "code",
   "execution_count": 195,
   "metadata": {},
   "outputs": [
    {
     "data": {
      "text/plain": [
       "180"
      ]
     },
     "execution_count": 195,
     "metadata": {},
     "output_type": "execute_result"
    }
   ],
   "source": [
    "df_client.shape[0]"
   ]
  },
  {
   "cell_type": "code",
   "execution_count": 196,
   "metadata": {},
   "outputs": [
    {
     "data": {
      "text/plain": [
       "0.35555555555555557"
      ]
     },
     "execution_count": 196,
     "metadata": {},
     "output_type": "execute_result"
    }
   ],
   "source": [
    "(19+17+15+13)/180\n",
    "#36% of the current clients are in Texas, Florida, California, and Ohio \n",
    "#New York is 8th on the list for reference"
   ]
  },
  {
   "cell_type": "code",
   "execution_count": 197,
   "metadata": {},
   "outputs": [
    {
     "data": {
      "text/plain": [
       "CA    112\n",
       "TX     97\n",
       "FL     69\n",
       "NY     50\n",
       "OH     45\n",
       "DC     34\n",
       "PA     30\n",
       "NC     29\n",
       "IL     29\n",
       "WA     27\n",
       "GA     27\n",
       "OK     27\n",
       "VA     27\n",
       "TN     26\n",
       "CO     25\n",
       "NV     24\n",
       "AL     24\n",
       "MO     21\n",
       "LA     20\n",
       "MN     19\n",
       "IN     19\n",
       "MI     18\n",
       "KS     18\n",
       "AZ     17\n",
       "MA     15\n",
       "UT     14\n",
       "WI     14\n",
       "KY     13\n",
       "CT     13\n",
       "NJ     10\n",
       "MD     10\n",
       "IA      9\n",
       "SC      9\n",
       "NM      9\n",
       "OR      9\n",
       "NE      7\n",
       "WV      7\n",
       "MS      4\n",
       "ID      4\n",
       "HI      4\n",
       "SD      3\n",
       "WY      3\n",
       "AR      3\n",
       "AK      2\n",
       "ND      2\n",
       "VT      1\n",
       "DE      1\n",
       "Name: state, dtype: int64"
      ]
     },
     "execution_count": 197,
     "metadata": {},
     "output_type": "execute_result"
    }
   ],
   "source": [
    "df_lead['state'].value_counts()"
   ]
  },
  {
   "cell_type": "code",
   "execution_count": 198,
   "metadata": {},
   "outputs": [
    {
     "data": {
      "text/plain": [
       "1000"
      ]
     },
     "execution_count": 198,
     "metadata": {},
     "output_type": "execute_result"
    }
   ],
   "source": [
    "df_lead.shape[0]"
   ]
  },
  {
   "cell_type": "code",
   "execution_count": 199,
   "metadata": {},
   "outputs": [
    {
     "data": {
      "text/plain": [
       "0.373"
      ]
     },
     "execution_count": 199,
     "metadata": {},
     "output_type": "execute_result"
    }
   ],
   "source": [
    "(112+97+69+50+45)/1000\n",
    "#37% of the leads are in California, Texas, Florida, New York, and Ohio"
   ]
  },
  {
   "cell_type": "markdown",
   "metadata": {},
   "source": [
    "35% of the current clients reside in Texas, Florida, California, and Ohio respectfully. 37% of the leads reside in California, Texas, Florida, New York, and Ohio respectfully. New York is number 8 on the current client list but number 4 on the leads list."
   ]
  },
  {
   "cell_type": "code",
   "execution_count": 200,
   "metadata": {},
   "outputs": [],
   "source": [
    "#need to seperate age groups in leads\n",
    "twenties = df_lead[(df_lead['age']>=20) & (df_lead['age']<=29)]\n",
    "thirties = df_lead[(df_lead['age']>=30) & (df_lead['age']<=39)]\n",
    "fourties = df_lead[(df_lead['age']>=40) & (df_lead['age']<=49)]\n",
    "fifties = df_lead[(df_lead['age']>=50) & (df_lead['age']<=59)]\n",
    "sixties = df_lead[(df_lead['age']>=60) & (df_lead['age']<=69)]\n",
    "seventies = df_lead[(df_lead['age']>=70) & (df_lead['age']<=79)]\n",
    "eighties = df_lead[(df_lead['age']>=80) & (df_lead['age']<=89)]\n",
    "ninties = df_lead[(df_lead['age']>=90) & (df_lead['age']<=99)]\n",
    "hundred = df_lead[df_lead['age']==100]"
   ]
  },
  {
   "cell_type": "code",
   "execution_count": 201,
   "metadata": {},
   "outputs": [
    {
     "data": {
      "text/plain": [
       "113"
      ]
     },
     "execution_count": 201,
     "metadata": {},
     "output_type": "execute_result"
    }
   ],
   "source": [
    "twenties.shape[0]\n",
    "#the number of people in their 20s"
   ]
  },
  {
   "cell_type": "code",
   "execution_count": 202,
   "metadata": {},
   "outputs": [
    {
     "data": {
      "image/png": "[encoded data removed]",
      "text/plain": [
       "<Figure size 432x288 with 1 Axes>"
      ]
     },
     "metadata": {
      "needs_background": "light"
     },
     "output_type": "display_data"
    }
   ],
   "source": [
    "twenties.debt.hist();"
   ]
  },
  {
   "cell_type": "code",
   "execution_count": 203,
   "metadata": {},
   "outputs": [
    {
     "data": {
      "text/plain": [
       "129"
      ]
     },
     "execution_count": 203,
     "metadata": {},
     "output_type": "execute_result"
    }
   ],
   "source": [
    "thirties.shape[0]\n",
    "#30s"
   ]
  },
  {
   "cell_type": "code",
   "execution_count": 204,
   "metadata": {},
   "outputs": [
    {
     "data": {
      "image/png": "[encoded data removed]",
      "text/plain": [
       "<Figure size 432x288 with 1 Axes>"
      ]
     },
     "metadata": {
      "needs_background": "light"
     },
     "output_type": "display_data"
    }
   ],
   "source": [
    "thirties.debt.hist();"
   ]
  },
  {
   "cell_type": "code",
   "execution_count": 205,
   "metadata": {},
   "outputs": [
    {
     "data": {
      "text/plain": [
       "110"
      ]
     },
     "execution_count": 205,
     "metadata": {},
     "output_type": "execute_result"
    }
   ],
   "source": [
    "fourties.shape[0]\n",
    "#40s"
   ]
  },
  {
   "cell_type": "code",
   "execution_count": 206,
   "metadata": {},
   "outputs": [
    {
     "data": {
      "image/png": "[encoded data removed]",
      "text/plain": [
       "<Figure size 432x288 with 1 Axes>"
      ]
     },
     "metadata": {
      "needs_background": "light"
     },
     "output_type": "display_data"
    }
   ],
   "source": [
    "fourties.debt.hist();"
   ]
  },
  {
   "cell_type": "code",
   "execution_count": 207,
   "metadata": {},
   "outputs": [
    {
     "data": {
      "text/plain": [
       "114"
      ]
     },
     "execution_count": 207,
     "metadata": {},
     "output_type": "execute_result"
    }
   ],
   "source": [
    "fifties.shape[0]\n",
    "#50s"
   ]
  },
  {
   "cell_type": "code",
   "execution_count": 208,
   "metadata": {},
   "outputs": [
    {
     "data": {
      "image/png": "[encoded data removed]",
      "text/plain": [
       "<Figure size 432x288 with 1 Axes>"
      ]
     },
     "metadata": {
      "needs_background": "light"
     },
     "output_type": "display_data"
    }
   ],
   "source": [
    "fifties.debt.hist();"
   ]
  },
  {
   "cell_type": "code",
   "execution_count": 209,
   "metadata": {},
   "outputs": [
    {
     "data": {
      "text/plain": [
       "127"
      ]
     },
     "execution_count": 209,
     "metadata": {},
     "output_type": "execute_result"
    }
   ],
   "source": [
    "sixties.shape[0]\n",
    "#60s"
   ]
  },
  {
   "cell_type": "code",
   "execution_count": 210,
   "metadata": {},
   "outputs": [
    {
     "data": {
      "image/png": "[encoded data removed]",
      "text/plain": [
       "<Figure size 432x288 with 1 Axes>"
      ]
     },
     "metadata": {
      "needs_background": "light"
     },
     "output_type": "display_data"
    }
   ],
   "source": [
    "sixties.debt.hist();"
   ]
  },
  {
   "cell_type": "code",
   "execution_count": 211,
   "metadata": {},
   "outputs": [
    {
     "data": {
      "text/plain": [
       "119"
      ]
     },
     "execution_count": 211,
     "metadata": {},
     "output_type": "execute_result"
    }
   ],
   "source": [
    "seventies.shape[0]\n",
    "#70s"
   ]
  },
  {
   "cell_type": "code",
   "execution_count": 212,
   "metadata": {},
   "outputs": [
    {
     "data": {
      "image/png": "[encoded data removed]",
      "text/plain": [
       "<Figure size 432x288 with 1 Axes>"
      ]
     },
     "metadata": {
      "needs_background": "light"
     },
     "output_type": "display_data"
    }
   ],
   "source": [
    "seventies.debt.hist();"
   ]
  },
  {
   "cell_type": "code",
   "execution_count": 213,
   "metadata": {},
   "outputs": [
    {
     "data": {
      "text/plain": [
       "116"
      ]
     },
     "execution_count": 213,
     "metadata": {},
     "output_type": "execute_result"
    }
   ],
   "source": [
    "eighties.shape[0]\n",
    "#80s"
   ]
  },
  {
   "cell_type": "code",
   "execution_count": 214,
   "metadata": {},
   "outputs": [
    {
     "data": {
      "image/png": "[encoded data removed]",
      "text/plain": [
       "<Figure size 432x288 with 1 Axes>"
      ]
     },
     "metadata": {
      "needs_background": "light"
     },
     "output_type": "display_data"
    }
   ],
   "source": [
    "eighties.debt.hist();"
   ]
  },
  {
   "cell_type": "code",
   "execution_count": 215,
   "metadata": {},
   "outputs": [
    {
     "data": {
      "text/plain": [
       "132"
      ]
     },
     "execution_count": 215,
     "metadata": {},
     "output_type": "execute_result"
    }
   ],
   "source": [
    "ninties.shape[0]\n",
    "#90s"
   ]
  },
  {
   "cell_type": "code",
   "execution_count": 216,
   "metadata": {},
   "outputs": [
    {
     "data": {
      "image/png": "[encoded data removed]",
      "text/plain": [
       "<Figure size 432x288 with 1 Axes>"
      ]
     },
     "metadata": {
      "needs_background": "light"
     },
     "output_type": "display_data"
    }
   ],
   "source": [
    "ninties.debt.hist();"
   ]
  },
  {
   "cell_type": "code",
   "execution_count": 217,
   "metadata": {},
   "outputs": [
    {
     "data": {
      "text/plain": [
       "15"
      ]
     },
     "execution_count": 217,
     "metadata": {},
     "output_type": "execute_result"
    }
   ],
   "source": [
    "hundred.shape[0]\n",
    "#100"
   ]
  },
  {
   "cell_type": "code",
   "execution_count": 218,
   "metadata": {},
   "outputs": [
    {
     "data": {
      "image/png": "[encoded data removed]",
      "text/plain": [
       "<Figure size 432x288 with 1 Axes>"
      ]
     },
     "metadata": {
      "needs_background": "light"
     },
     "output_type": "display_data"
    }
   ],
   "source": [
    "hundred.debt.hist();"
   ]
  },
  {
   "cell_type": "code",
   "execution_count": 219,
   "metadata": {},
   "outputs": [
    {
     "data": {
      "text/html": [
       "<div>\n",
       "<style scoped>\n",
       "    .dataframe tbody tr th:only-of-type {\n",
       "        vertical-align: middle;\n",
       "    }\n",
       "\n",
       "    .dataframe tbody tr th {\n",
       "        vertical-align: top;\n",
       "    }\n",
       "\n",
       "    .dataframe thead th {\n",
       "        text-align: right;\n",
       "    }\n",
       "</style>\n",
       "<table border=\"1\" class=\"dataframe\">\n",
       "  <thead>\n",
       "    <tr style=\"text-align: right;\">\n",
       "      <th></th>\n",
       "      <th>first_name</th>\n",
       "      <th>last_name</th>\n",
       "      <th>age</th>\n",
       "      <th>gender</th>\n",
       "      <th>debt</th>\n",
       "      <th>city</th>\n",
       "      <th>state</th>\n",
       "      <th>zip</th>\n",
       "    </tr>\n",
       "  </thead>\n",
       "  <tbody>\n",
       "    <tr>\n",
       "      <th>470</th>\n",
       "      <td>Rogerio</td>\n",
       "      <td>Udey</td>\n",
       "      <td>20.0</td>\n",
       "      <td>Male</td>\n",
       "      <td>108568.0</td>\n",
       "      <td>Detroit</td>\n",
       "      <td>MI</td>\n",
       "      <td>48275</td>\n",
       "    </tr>\n",
       "    <tr>\n",
       "      <th>914</th>\n",
       "      <td>Sydelle</td>\n",
       "      <td>Ewenson</td>\n",
       "      <td>71.0</td>\n",
       "      <td>Female</td>\n",
       "      <td>108533.0</td>\n",
       "      <td>Santa Barbara</td>\n",
       "      <td>CA</td>\n",
       "      <td>93150</td>\n",
       "    </tr>\n",
       "    <tr>\n",
       "      <th>23</th>\n",
       "      <td>Gerome</td>\n",
       "      <td>McKenney</td>\n",
       "      <td>20.0</td>\n",
       "      <td>Male</td>\n",
       "      <td>108516.0</td>\n",
       "      <td>New Haven</td>\n",
       "      <td>CT</td>\n",
       "      <td>6533</td>\n",
       "    </tr>\n",
       "    <tr>\n",
       "      <th>701</th>\n",
       "      <td>Tressa</td>\n",
       "      <td>Everson</td>\n",
       "      <td>91.0</td>\n",
       "      <td>Female</td>\n",
       "      <td>108389.0</td>\n",
       "      <td>Houston</td>\n",
       "      <td>TX</td>\n",
       "      <td>77255</td>\n",
       "    </tr>\n",
       "    <tr>\n",
       "      <th>982</th>\n",
       "      <td>Cristian</td>\n",
       "      <td>Swale</td>\n",
       "      <td>48.0</td>\n",
       "      <td>Male</td>\n",
       "      <td>108354.0</td>\n",
       "      <td>Tacoma</td>\n",
       "      <td>WA</td>\n",
       "      <td>98405</td>\n",
       "    </tr>\n",
       "    <tr>\n",
       "      <th>330</th>\n",
       "      <td>Carson</td>\n",
       "      <td>Layne</td>\n",
       "      <td>62.0</td>\n",
       "      <td>Male</td>\n",
       "      <td>108251.0</td>\n",
       "      <td>Port Saint Lucie</td>\n",
       "      <td>FL</td>\n",
       "      <td>34985</td>\n",
       "    </tr>\n",
       "    <tr>\n",
       "      <th>155</th>\n",
       "      <td>Adrienne</td>\n",
       "      <td>Thurby</td>\n",
       "      <td>NaN</td>\n",
       "      <td>NaN</td>\n",
       "      <td>108203.0</td>\n",
       "      <td>Bowie</td>\n",
       "      <td>MD</td>\n",
       "      <td>20719</td>\n",
       "    </tr>\n",
       "    <tr>\n",
       "      <th>827</th>\n",
       "      <td>Decca</td>\n",
       "      <td>Lethcoe</td>\n",
       "      <td>64.0</td>\n",
       "      <td>Male</td>\n",
       "      <td>108020.0</td>\n",
       "      <td>Las Vegas</td>\n",
       "      <td>NV</td>\n",
       "      <td>89105</td>\n",
       "    </tr>\n",
       "    <tr>\n",
       "      <th>533</th>\n",
       "      <td>Marsiella</td>\n",
       "      <td>Elcomb</td>\n",
       "      <td>NaN</td>\n",
       "      <td>NaN</td>\n",
       "      <td>107913.0</td>\n",
       "      <td>Chicago</td>\n",
       "      <td>IL</td>\n",
       "      <td>60614</td>\n",
       "    </tr>\n",
       "    <tr>\n",
       "      <th>38</th>\n",
       "      <td>Mateo</td>\n",
       "      <td>Yakobowitz</td>\n",
       "      <td>35.0</td>\n",
       "      <td>Male</td>\n",
       "      <td>107908.0</td>\n",
       "      <td>Trenton</td>\n",
       "      <td>NJ</td>\n",
       "      <td>8650</td>\n",
       "    </tr>\n",
       "  </tbody>\n",
       "</table>\n",
       "</div>"
      ],
      "text/plain": [
       "    first_name   last_name   age  gender      debt              city state  \\\n",
       "470    Rogerio        Udey  20.0    Male  108568.0           Detroit    MI   \n",
       "914    Sydelle     Ewenson  71.0  Female  108533.0     Santa Barbara    CA   \n",
       "23      Gerome    McKenney  20.0    Male  108516.0         New Haven    CT   \n",
       "701     Tressa     Everson  91.0  Female  108389.0           Houston    TX   \n",
       "982   Cristian       Swale  48.0    Male  108354.0            Tacoma    WA   \n",
       "330     Carson       Layne  62.0    Male  108251.0  Port Saint Lucie    FL   \n",
       "155   Adrienne      Thurby   NaN     NaN  108203.0             Bowie    MD   \n",
       "827      Decca     Lethcoe  64.0    Male  108020.0         Las Vegas    NV   \n",
       "533  Marsiella      Elcomb   NaN     NaN  107913.0           Chicago    IL   \n",
       "38       Mateo  Yakobowitz  35.0    Male  107908.0           Trenton    NJ   \n",
       "\n",
       "       zip  \n",
       "470  48275  \n",
       "914  93150  \n",
       "23    6533  \n",
       "701  77255  \n",
       "982  98405  \n",
       "330  34985  \n",
       "155  20719  \n",
       "827  89105  \n",
       "533  60614  \n",
       "38    8650  "
      ]
     },
     "execution_count": 219,
     "metadata": {},
     "output_type": "execute_result"
    }
   ],
   "source": [
    "df_lead.nlargest(10, 'debt')\n",
    "#don't see much of a coorelation with high amount of debt"
   ]
  },
  {
   "cell_type": "code",
   "execution_count": 220,
   "metadata": {},
   "outputs": [
    {
     "name": "stderr",
     "output_type": "stream",
     "text": [
      "C:\\Users\\Liam Slyne\\Anaconda3\\lib\\site-packages\\numpy\\lib\\function_base.py:3826: RuntimeWarning: Invalid value encountered in percentile\n",
      "  interpolation=interpolation)\n"
     ]
    },
    {
     "data": {
      "text/plain": [
       "<AxesSubplot:xlabel='age', ylabel='debt'>"
      ]
     },
     "execution_count": 220,
     "metadata": {},
     "output_type": "execute_result"
    },
    {
     "data": {
      "image/png": "[encoded data removed]",
      "text/plain": [
       "<Figure size 1008x720 with 1 Axes>"
      ]
     },
     "metadata": {
      "needs_background": "light"
     },
     "output_type": "display_data"
    }
   ],
   "source": [
    "plt.figure(figsize = [14,10])\n",
    "sns.lineplot(data=df_lead, x=\"age\", y=\"debt\")"
   ]
  },
  {
   "cell_type": "markdown",
   "metadata": {},
   "source": [
    "There seems to be no coorelation between age and debt amount."
   ]
  },
  {
   "cell_type": "code",
   "execution_count": 221,
   "metadata": {},
   "outputs": [
    {
     "data": {
      "text/plain": [
       "TX    15\n",
       "CA    15\n",
       "NY     6\n",
       "CT     5\n",
       "OH     5\n",
       "FL     5\n",
       "MO     4\n",
       "MN     4\n",
       "GA     4\n",
       "KY     4\n",
       "DC     4\n",
       "MI     3\n",
       "TN     3\n",
       "CO     3\n",
       "LA     3\n",
       "NV     3\n",
       "WA     3\n",
       "PA     2\n",
       "MD     2\n",
       "VA     2\n",
       "WI     2\n",
       "MA     2\n",
       "HI     2\n",
       "NM     1\n",
       "NE     1\n",
       "IL     1\n",
       "AZ     1\n",
       "NC     1\n",
       "UT     1\n",
       "SC     1\n",
       "OR     1\n",
       "IN     1\n",
       "NJ     1\n",
       "KS     1\n",
       "ID     1\n",
       "Name: state, dtype: int64"
      ]
     },
     "execution_count": 221,
     "metadata": {},
     "output_type": "execute_result"
    }
   ],
   "source": [
    "#let's find out where each decade of people live\n",
    "twenties['state'].value_counts()\n",
    "#Texas and California"
   ]
  },
  {
   "cell_type": "code",
   "execution_count": 222,
   "metadata": {},
   "outputs": [
    {
     "data": {
      "text/plain": [
       "TX    17\n",
       "FL    11\n",
       "CA    11\n",
       "OK     7\n",
       "NC     7\n",
       "AL     6\n",
       "WA     6\n",
       "PA     5\n",
       "MI     5\n",
       "NV     4\n",
       "MA     4\n",
       "CO     4\n",
       "OH     3\n",
       "IA     3\n",
       "LA     3\n",
       "AZ     3\n",
       "KS     3\n",
       "MN     3\n",
       "MO     3\n",
       "TN     3\n",
       "NY     3\n",
       "VA     2\n",
       "UT     2\n",
       "NJ     2\n",
       "IL     2\n",
       "GA     2\n",
       "DC     1\n",
       "NM     1\n",
       "SC     1\n",
       "AR     1\n",
       "OR     1\n",
       "Name: state, dtype: int64"
      ]
     },
     "execution_count": 222,
     "metadata": {},
     "output_type": "execute_result"
    }
   ],
   "source": [
    "thirties['state'].value_counts()\n",
    "#Texas, Florida, and California"
   ]
  },
  {
   "cell_type": "code",
   "execution_count": 223,
   "metadata": {},
   "outputs": [
    {
     "data": {
      "text/plain": [
       "CA    12\n",
       "FL    10\n",
       "TX     9\n",
       "NY     8\n",
       "OH     7\n",
       "PA     5\n",
       "WA     5\n",
       "LA     4\n",
       "VA     4\n",
       "NV     3\n",
       "TN     3\n",
       "NC     3\n",
       "GA     3\n",
       "MO     3\n",
       "DC     3\n",
       "SC     2\n",
       "KS     2\n",
       "AL     2\n",
       "AZ     2\n",
       "CO     2\n",
       "MN     2\n",
       "IL     2\n",
       "CT     2\n",
       "NJ     1\n",
       "IN     1\n",
       "OR     1\n",
       "WV     1\n",
       "WI     1\n",
       "ID     1\n",
       "NM     1\n",
       "OK     1\n",
       "MI     1\n",
       "AR     1\n",
       "MA     1\n",
       "UT     1\n",
       "Name: state, dtype: int64"
      ]
     },
     "execution_count": 223,
     "metadata": {},
     "output_type": "execute_result"
    }
   ],
   "source": [
    "fourties['state'].value_counts()\n",
    "#California and Florida"
   ]
  },
  {
   "cell_type": "code",
   "execution_count": 224,
   "metadata": {},
   "outputs": [
    {
     "data": {
      "text/plain": [
       "CA    14\n",
       "TX     9\n",
       "FL     8\n",
       "NY     7\n",
       "OH     7\n",
       "TN     5\n",
       "AL     4\n",
       "WI     4\n",
       "NC     4\n",
       "GA     4\n",
       "OK     3\n",
       "NV     3\n",
       "LA     3\n",
       "IL     3\n",
       "MO     3\n",
       "NE     3\n",
       "HI     2\n",
       "MA     2\n",
       "PA     2\n",
       "SD     2\n",
       "DC     2\n",
       "IN     2\n",
       "MN     2\n",
       "WA     2\n",
       "VA     2\n",
       "NM     1\n",
       "MD     1\n",
       "CT     1\n",
       "WV     1\n",
       "KY     1\n",
       "UT     1\n",
       "SC     1\n",
       "IA     1\n",
       "NJ     1\n",
       "KS     1\n",
       "AZ     1\n",
       "ND     1\n",
       "Name: state, dtype: int64"
      ]
     },
     "execution_count": 224,
     "metadata": {},
     "output_type": "execute_result"
    }
   ],
   "source": [
    "fifties['state'].value_counts()\n",
    "#California"
   ]
  },
  {
   "cell_type": "code",
   "execution_count": 225,
   "metadata": {},
   "outputs": [
    {
     "data": {
      "text/plain": [
       "TX    17\n",
       "CA    15\n",
       "FL    12\n",
       "VA     6\n",
       "OK     5\n",
       "TN     5\n",
       "NC     5\n",
       "NY     5\n",
       "IL     5\n",
       "CO     4\n",
       "KS     3\n",
       "IN     3\n",
       "PA     3\n",
       "UT     3\n",
       "MD     3\n",
       "WA     3\n",
       "WI     3\n",
       "OH     2\n",
       "MA     2\n",
       "AL     2\n",
       "GA     2\n",
       "NV     2\n",
       "LA     2\n",
       "KY     2\n",
       "MI     2\n",
       "IA     2\n",
       "MN     1\n",
       "MS     1\n",
       "WV     1\n",
       "AZ     1\n",
       "OR     1\n",
       "MO     1\n",
       "AK     1\n",
       "DC     1\n",
       "WY     1\n",
       "Name: state, dtype: int64"
      ]
     },
     "execution_count": 225,
     "metadata": {},
     "output_type": "execute_result"
    }
   ],
   "source": [
    "sixties['state'].value_counts()\n",
    "#Texas, California, and FLorida"
   ]
  },
  {
   "cell_type": "code",
   "execution_count": 226,
   "metadata": {},
   "outputs": [
    {
     "data": {
      "text/plain": [
       "CA    14\n",
       "TX    10\n",
       "NY     9\n",
       "FL     8\n",
       "DC     8\n",
       "PA     6\n",
       "OK     4\n",
       "MN     4\n",
       "NV     4\n",
       "CO     4\n",
       "IL     4\n",
       "IN     3\n",
       "WI     3\n",
       "VA     3\n",
       "NC     3\n",
       "KS     3\n",
       "AL     2\n",
       "NE     2\n",
       "NJ     2\n",
       "GA     2\n",
       "OR     2\n",
       "NM     2\n",
       "LA     2\n",
       "MS     2\n",
       "KY     1\n",
       "MA     1\n",
       "TN     1\n",
       "MO     1\n",
       "WV     1\n",
       "OH     1\n",
       "UT     1\n",
       "SC     1\n",
       "MI     1\n",
       "IA     1\n",
       "WA     1\n",
       "AZ     1\n",
       "CT     1\n",
       "Name: state, dtype: int64"
      ]
     },
     "execution_count": 226,
     "metadata": {},
     "output_type": "execute_result"
    }
   ],
   "source": [
    "seventies['state'].value_counts()\n",
    "#California and Texas"
   ]
  },
  {
   "cell_type": "code",
   "execution_count": 227,
   "metadata": {},
   "outputs": [
    {
     "data": {
      "text/plain": [
       "CA    15\n",
       "OH    13\n",
       "FL     5\n",
       "GA     5\n",
       "VA     5\n",
       "IL     4\n",
       "WA     4\n",
       "IN     4\n",
       "CT     4\n",
       "DC     4\n",
       "CO     4\n",
       "TX     3\n",
       "NV     3\n",
       "OK     3\n",
       "AL     3\n",
       "NC     3\n",
       "UT     3\n",
       "MO     3\n",
       "MI     3\n",
       "AZ     3\n",
       "SC     2\n",
       "MA     2\n",
       "MD     2\n",
       "PA     2\n",
       "NY     2\n",
       "MN     2\n",
       "KY     2\n",
       "AK     1\n",
       "ID     1\n",
       "KS     1\n",
       "LA     1\n",
       "AR     1\n",
       "NJ     1\n",
       "OR     1\n",
       "WV     1\n",
       "Name: state, dtype: int64"
      ]
     },
     "execution_count": 227,
     "metadata": {},
     "output_type": "execute_result"
    }
   ],
   "source": [
    "eighties['state'].value_counts()\n",
    "#California and Ohio"
   ]
  },
  {
   "cell_type": "code",
   "execution_count": 228,
   "metadata": {},
   "outputs": [
    {
     "data": {
      "text/plain": [
       "TX    14\n",
       "CA    12\n",
       "DC     9\n",
       "FL     8\n",
       "OH     6\n",
       "NY     6\n",
       "TN     5\n",
       "IL     5\n",
       "OK     4\n",
       "AL     4\n",
       "PA     4\n",
       "MO     3\n",
       "KS     3\n",
       "GA     3\n",
       "NC     3\n",
       "KY     3\n",
       "AZ     3\n",
       "CO     3\n",
       "WV     2\n",
       "LA     2\n",
       "OR     2\n",
       "WY     2\n",
       "VA     2\n",
       "NM     2\n",
       "MI     2\n",
       "IN     2\n",
       "NJ     2\n",
       "NE     1\n",
       "MA     1\n",
       "SD     1\n",
       "VT     1\n",
       "NV     1\n",
       "MD     1\n",
       "WI     1\n",
       "MS     1\n",
       "MN     1\n",
       "UT     1\n",
       "SC     1\n",
       "IA     1\n",
       "WA     1\n",
       "ID     1\n",
       "DE     1\n",
       "ND     1\n",
       "Name: state, dtype: int64"
      ]
     },
     "execution_count": 228,
     "metadata": {},
     "output_type": "execute_result"
    }
   ],
   "source": [
    "ninties['state'].value_counts()\n",
    "#Texas and California"
   ]
  },
  {
   "cell_type": "markdown",
   "metadata": {},
   "source": [
    "Notes: Market to California, Texas, Florida, New York, and Ohio."
   ]
  },
  {
   "cell_type": "markdown",
   "metadata": {},
   "source": [
    " Notes: 20s = TX and CA\n",
    "30s = TX, FL, and CA\n",
    "40s = CA and FL\n",
    "50s = CA\n",
    "60s = TX, CA, and FL\n",
    "70s = CA and TX\n",
    "80s = CA and OH\n",
    "90s = TX and CA"
   ]
  },
  {
   "cell_type": "markdown",
   "metadata": {},
   "source": [
    "After exploring the current clients, 35% reside in Texas, Florida, California, and Ohio. \n",
    "In the potential leads 37% reside in California, Texas, Florida, New York, and Ohio.\n",
    "The age groups (split by decade for example 20s, 30s, etc.) and amount of debt do not have enough coorlation to investigate further. \n",
    "The top states for all age groups are Texas, Florida, and California. \n",
    "The number of people in each age group are similiar in number as well."
   ]
  }
 ],
 "metadata": {
  "kernelspec": {
   "display_name": "Python 3",
   "language": "python",
   "name": "python3"
  },
  "language_info": {
   "codemirror_mode": {
    "name": "ipython",
    "version": 3
   },
   "file_extension": ".py",
   "mimetype": "text/x-python",
   "name": "python",
   "nbconvert_exporter": "python",
   "pygments_lexer": "ipython3",
   "version": "3.7.9"
  }
 },
 "nbformat": 4,
 "nbformat_minor": 4
}
